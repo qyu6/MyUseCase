{
 "cells": [
  {
   "cell_type": "code",
   "execution_count": null,
   "id": "03d1a450",
   "metadata": {},
   "outputs": [],
   "source": [
    "import smtplib\n",
    "from email.message import EmailMessage\n",
    "import datetime\n",
    "import selenium\n",
    "import time\n",
    "from selenium import webdriver\n",
    "from selenium.webdriver.support.ui import Select\n",
    "from retrying import retry\n",
    "from selenium.webdriver.chrome.options import Options\n",
    "from apscheduler.schedulers.blocking import BlockingScheduler\n",
    "import csv\n",
    "import pandas as pd"
   ]
  },
  {
   "cell_type": "code",
   "execution_count": null,
   "id": "028e0d64",
   "metadata": {},
   "outputs": [],
   "source": [
    "options = Options()\n",
    "options.add_argument('--incognito')\n",
    "\n",
    "# 查看自己的Chrome版本，并在这里https://chromedriver.storage.googleapis.com/index.html? 下载对应版本的chromedriver来使用\n",
    "driver = webdriver.Chrome(chrome_options=options,executable_path=r'C:\\Program Files (x86)\\Google\\Chrome\\Application\\chromedriver.exe')\n",
    "# driver.get('https://www.sciencedirect.com/science/article/pii/S1361920921004168')\n",
    "driver.get('https://www.sciencedirect.com/search?qs=autopilot')\n",
    "driver.maximize_window()\n",
    "time.sleep(5)\n",
    "a_list=[]\n",
    "\n",
    "a_list=[]\n",
    "b=driver.find_elements_by_xpath('//*[@class=\"result-list-title-link u-font-serif text-s\"]')\n",
    "\n",
    "for a in b:\n",
    "    a_list.append(a.get_attribute('href'.strip()))\n",
    "    \n",
    "result=[]\n",
    "for c in a_list:\n",
    "    driver.get(c)\n",
    "    driver.find_element_by_xpath(\"//button[@id='show-more-btn']\").click()\n",
    "    result.append(driver.find_element_by_xpath(\"//div[@id='author-group']\").text)\n",
    "\n",
    "driver.quit()\n",
    "\n",
    "output = pd.DataFrame({'html':a_list,'authors':result})\n",
    "output.to_csv('resultoutput.csv',encoding='utf-8')"
   ]
  }
 ],
 "metadata": {
  "kernelspec": {
   "display_name": "Python 3 (ipykernel)",
   "language": "python",
   "name": "python3"
  },
  "language_info": {
   "codemirror_mode": {
    "name": "ipython",
    "version": 3
   },
   "file_extension": ".py",
   "mimetype": "text/x-python",
   "name": "python",
   "nbconvert_exporter": "python",
   "pygments_lexer": "ipython3",
   "version": "3.9.7"
  }
 },
 "nbformat": 4,
 "nbformat_minor": 5
}
